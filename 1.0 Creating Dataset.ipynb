{
 "cells": [
  {
   "cell_type": "markdown",
   "metadata": {},
   "source": [
    "# Dataset\n",
    "\n",
    "500 Covid-19 Positive images\n",
    "1600 Covid-19 Negative images\n",
    "\n",
    "## Credits and Links\n",
    "\n",
    "1. [Covid Chest X Ray Dataset](https://github.com/ieee8023/covid-chestxray-dataset)\n",
    "2. [Pneumonia dataset by Praveen](https://www.kaggle.com/praveengovi/coronahack-chest-xraydataset)"
   ]
  },
  {
   "cell_type": "code",
   "execution_count": 62,
   "metadata": {},
   "outputs": [
    {
     "name": "stdout",
     "output_type": "stream",
     "text": [
      "['Covid19 Negative', 'Covid19 Positive']\n"
     ]
    }
   ],
   "source": [
    "import pandas as pd\n",
    "import os\n",
    "import numpy as np\n",
    "\n",
    "datapath1='covid-chestxray-dataset-master'\n",
    "dataset_path='dataset'\n",
    "\n",
    "categories=os.listdir(dataset_path)\n",
    "print(categories)\n",
    "\n",
    "dataset=pd.read_csv(os.path.join(datapath1,'metadata.csv'))\n",
    "findings=dataset['finding']\n",
    "image_names=dataset['filename']"
   ]
  },
  {
   "cell_type": "code",
   "execution_count": 32,
   "metadata": {},
   "outputs": [],
   "source": [
    "positives_index=np.concatenate((np.where(findings=='COVID-19')[0],np.where(findings=='SARS')[0]))\n",
    "positive_image_names=image_names[positives_index]"
   ]
  },
  {
   "cell_type": "code",
   "execution_count": 45,
   "metadata": {},
   "outputs": [
    {
     "name": "stdout",
     "output_type": "stream",
     "text": [
      "OpenCV(3.4.1) C:\\Miniconda3\\conda-bld\\opencv-suite_1533128839831\\work\\modules\\imgcodecs\\src\\loadsave.cpp:678: error: (-2) could not find a writer for the specified extension in function cv::imwrite_\n",
      "\n",
      "OpenCV(3.4.1) C:\\Miniconda3\\conda-bld\\opencv-suite_1533128839831\\work\\modules\\imgcodecs\\src\\loadsave.cpp:678: error: (-2) could not find a writer for the specified extension in function cv::imwrite_\n",
      "\n",
      "OpenCV(3.4.1) C:\\Miniconda3\\conda-bld\\opencv-suite_1533128839831\\work\\modules\\imgcodecs\\src\\loadsave.cpp:678: error: (-2) could not find a writer for the specified extension in function cv::imwrite_\n",
      "\n",
      "OpenCV(3.4.1) C:\\Miniconda3\\conda-bld\\opencv-suite_1533128839831\\work\\modules\\imgcodecs\\src\\loadsave.cpp:678: error: (-2) could not find a writer for the specified extension in function cv::imwrite_\n",
      "\n",
      "OpenCV(3.4.1) C:\\Miniconda3\\conda-bld\\opencv-suite_1533128839831\\work\\modules\\imgcodecs\\src\\loadsave.cpp:678: error: (-2) could not find a writer for the specified extension in function cv::imwrite_\n",
      "\n",
      "OpenCV(3.4.1) C:\\Miniconda3\\conda-bld\\opencv-suite_1533128839831\\work\\modules\\imgcodecs\\src\\loadsave.cpp:678: error: (-2) could not find a writer for the specified extension in function cv::imwrite_\n",
      "\n",
      "OpenCV(3.4.1) C:\\Miniconda3\\conda-bld\\opencv-suite_1533128839831\\work\\modules\\imgcodecs\\src\\loadsave.cpp:678: error: (-2) could not find a writer for the specified extension in function cv::imwrite_\n",
      "\n",
      "OpenCV(3.4.1) C:\\Miniconda3\\conda-bld\\opencv-suite_1533128839831\\work\\modules\\imgcodecs\\src\\loadsave.cpp:678: error: (-2) could not find a writer for the specified extension in function cv::imwrite_\n",
      "\n",
      "OpenCV(3.4.1) C:\\Miniconda3\\conda-bld\\opencv-suite_1533128839831\\work\\modules\\imgcodecs\\src\\loadsave.cpp:678: error: (-2) could not find a writer for the specified extension in function cv::imwrite_\n",
      "\n",
      "OpenCV(3.4.1) C:\\Miniconda3\\conda-bld\\opencv-suite_1533128839831\\work\\modules\\imgcodecs\\src\\loadsave.cpp:678: error: (-2) could not find a writer for the specified extension in function cv::imwrite_\n",
      "\n",
      "OpenCV(3.4.1) C:\\Miniconda3\\conda-bld\\opencv-suite_1533128839831\\work\\modules\\imgcodecs\\src\\loadsave.cpp:678: error: (-2) could not find a writer for the specified extension in function cv::imwrite_\n",
      "\n",
      "OpenCV(3.4.1) C:\\Miniconda3\\conda-bld\\opencv-suite_1533128839831\\work\\modules\\imgcodecs\\src\\loadsave.cpp:678: error: (-2) could not find a writer for the specified extension in function cv::imwrite_\n",
      "\n",
      "OpenCV(3.4.1) C:\\Miniconda3\\conda-bld\\opencv-suite_1533128839831\\work\\modules\\imgcodecs\\src\\loadsave.cpp:678: error: (-2) could not find a writer for the specified extension in function cv::imwrite_\n",
      "\n",
      "OpenCV(3.4.1) C:\\Miniconda3\\conda-bld\\opencv-suite_1533128839831\\work\\modules\\imgcodecs\\src\\loadsave.cpp:678: error: (-2) could not find a writer for the specified extension in function cv::imwrite_\n",
      "\n",
      "OpenCV(3.4.1) C:\\Miniconda3\\conda-bld\\opencv-suite_1533128839831\\work\\modules\\imgcodecs\\src\\loadsave.cpp:678: error: (-2) could not find a writer for the specified extension in function cv::imwrite_\n",
      "\n",
      "OpenCV(3.4.1) C:\\Miniconda3\\conda-bld\\opencv-suite_1533128839831\\work\\modules\\imgcodecs\\src\\loadsave.cpp:678: error: (-2) could not find a writer for the specified extension in function cv::imwrite_\n",
      "\n",
      "OpenCV(3.4.1) C:\\Miniconda3\\conda-bld\\opencv-suite_1533128839831\\work\\modules\\imgcodecs\\src\\loadsave.cpp:678: error: (-2) could not find a writer for the specified extension in function cv::imwrite_\n",
      "\n",
      "OpenCV(3.4.1) C:\\Miniconda3\\conda-bld\\opencv-suite_1533128839831\\work\\modules\\imgcodecs\\src\\loadsave.cpp:678: error: (-2) could not find a writer for the specified extension in function cv::imwrite_\n",
      "\n",
      "OpenCV(3.4.1) C:\\Miniconda3\\conda-bld\\opencv-suite_1533128839831\\work\\modules\\imgcodecs\\src\\loadsave.cpp:678: error: (-2) could not find a writer for the specified extension in function cv::imwrite_\n",
      "\n",
      "OpenCV(3.4.1) C:\\Miniconda3\\conda-bld\\opencv-suite_1533128839831\\work\\modules\\imgcodecs\\src\\loadsave.cpp:678: error: (-2) could not find a writer for the specified extension in function cv::imwrite_\n",
      "\n",
      "OpenCV(3.4.1) C:\\Miniconda3\\conda-bld\\opencv-suite_1533128839831\\work\\modules\\imgcodecs\\src\\loadsave.cpp:678: error: (-2) could not find a writer for the specified extension in function cv::imwrite_\n",
      "\n"
     ]
    }
   ],
   "source": [
    "import cv2\n",
    "\n",
    "for positive_image_name in positive_image_names:\n",
    "    image=cv2.imread(os.path.join(datapath1,'images',positive_image_name))\n",
    "    try:\n",
    "        cv2.imwrite(os.path.join(dataset_path,categories[1],positive_image_name),image)\n",
    "    except Exception as e:\n",
    "        print(e)"
   ]
  },
  {
   "cell_type": "code",
   "execution_count": 63,
   "metadata": {},
   "outputs": [],
   "source": [
    "datapath2='562468_1022626_bundle_archive'\n",
    "\n",
    "dataset=pd.read_csv(os.path.join(datapath2,'Chest_xray_Corona_Metadata.csv'))\n",
    "findings=dataset['Label']\n",
    "image_names=dataset['X_ray_image_name']"
   ]
  },
  {
   "cell_type": "code",
   "execution_count": 64,
   "metadata": {},
   "outputs": [],
   "source": [
    "negative_index=np.where(findings=='Normal')[0]"
   ]
  },
  {
   "cell_type": "code",
   "execution_count": 65,
   "metadata": {},
   "outputs": [],
   "source": [
    "negative_image_names=image_names[negative_index]"
   ]
  },
  {
   "cell_type": "code",
   "execution_count": 66,
   "metadata": {},
   "outputs": [],
   "source": [
    "for negative_image_name in negative_image_names:\n",
    "    image=cv2.imread(os.path.join(datapath2,'images',negative_image_name))\n",
    "    try:\n",
    "        cv2.imwrite(os.path.join(dataset_path,categories[0],negative_image_name),image)\n",
    "    except Exception as e:\n",
    "        print(e)"
   ]
  },
  {
   "cell_type": "code",
   "execution_count": null,
   "metadata": {},
   "outputs": [],
   "source": [
    "negative_image_names.shape"
   ]
  }
 ],
 "metadata": {
  "kernelspec": {
   "display_name": "Python 3",
   "language": "python",
   "name": "python3"
  },
  "language_info": {
   "codemirror_mode": {
    "name": "ipython",
    "version": 3
   },
   "file_extension": ".py",
   "mimetype": "text/x-python",
   "name": "python",
   "nbconvert_exporter": "python",
   "pygments_lexer": "ipython3",
   "version": "3.6.8"
  }
 },
 "nbformat": 4,
 "nbformat_minor": 2
}
